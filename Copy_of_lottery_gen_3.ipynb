{
  "nbformat": 4,
  "nbformat_minor": 0,
  "metadata": {
    "colab": {
      "name": "Copy of lottery_gen_3.ipynb",
      "provenance": [],
      "authorship_tag": "ABX9TyO5/GS+hA9lPr812I4yDGhq",
      "include_colab_link": true
    },
    "kernelspec": {
      "name": "python3",
      "display_name": "Python 3"
    }
  },
  "cells": [
    {
      "cell_type": "markdown",
      "metadata": {
        "id": "view-in-github",
        "colab_type": "text"
      },
      "source": [
        "<a href=\"https://colab.research.google.com/github/JohnGabrielRodi/pick-6-program/blob/main/Copy_of_lottery_gen_3.ipynb\" target=\"_parent\"><img src=\"https://colab.research.google.com/assets/colab-badge.svg\" alt=\"Open In Colab\"/></a>"
      ]
    },
    {
      "cell_type": "code",
      "metadata": {
        "colab": {
          "base_uri": "https://localhost:8080/"
        },
        "id": "MbU69_fEN5Uh",
        "outputId": "d9d012bf-a138-4404-9b08-b589bed64e29"
      },
      "source": [
        "''' This is a working pick-6 generator using a while loop and \r\n",
        "randint inside a class with cascading method calls. '''\r\n",
        "\r\n",
        "\r\n",
        "class Lotto(object):\r\n",
        "  import random\r\n",
        "  \r\n",
        "  def __init__(self):\r\n",
        "    self.empty = []\r\n",
        "\r\n",
        "  def num(self):\r\n",
        "      while len(self.empty) < 6:\r\n",
        "         mock = self.random.randint(1, 49)\r\n",
        "         return (self.filt(mock))\r\n",
        "      else:\r\n",
        "        print(self.empty)\r\n",
        "  \r\n",
        "  def filt(self, mock):\r\n",
        "    if mock not in self.empty:\r\n",
        "      return self.lop(mock)\r\n",
        "    else: \r\n",
        "      return self.num()     \r\n",
        "\r\n",
        "  def lop(self, mock):\r\n",
        "    self.empty.append(mock)\r\n",
        "    return self.num()\r\n",
        "    \r\n",
        "\r\n",
        "obj = Lotto()\r\n",
        "obj.num()\r\n"
      ],
      "execution_count": null,
      "outputs": [
        {
          "output_type": "stream",
          "text": [
            "[36, 13, 32, 18, 30, 31]\n"
          ],
          "name": "stdout"
        }
      ]
    }
  ]
}